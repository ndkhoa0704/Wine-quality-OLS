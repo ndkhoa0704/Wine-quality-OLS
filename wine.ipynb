{
 "cells": [
  {
   "cell_type": "code",
   "execution_count": 1,
   "id": "ae8b143a",
   "metadata": {},
   "outputs": [],
   "source": [
    "import pandas as pd\n",
    "import numpy as np\n",
    "from sklearn.utils import shuffle\n",
    "import matplotlib.pyplot as plt"
   ]
  },
  {
   "cell_type": "markdown",
   "id": "830d9b2b",
   "metadata": {},
   "source": [
    "## Prepare dataset"
   ]
  },
  {
   "cell_type": "code",
   "execution_count": 2,
   "id": "6f3bbafb",
   "metadata": {
    "scrolled": true
   },
   "outputs": [
    {
     "data": {
      "text/html": [
       "<div>\n",
       "<style scoped>\n",
       "    .dataframe tbody tr th:only-of-type {\n",
       "        vertical-align: middle;\n",
       "    }\n",
       "\n",
       "    .dataframe tbody tr th {\n",
       "        vertical-align: top;\n",
       "    }\n",
       "\n",
       "    .dataframe thead th {\n",
       "        text-align: right;\n",
       "    }\n",
       "</style>\n",
       "<table border=\"1\" class=\"dataframe\">\n",
       "  <thead>\n",
       "    <tr style=\"text-align: right;\">\n",
       "      <th></th>\n",
       "      <th>fixed acidity</th>\n",
       "      <th>volatile acidity</th>\n",
       "      <th>citric acid</th>\n",
       "      <th>residual sugar</th>\n",
       "      <th>chlorides</th>\n",
       "      <th>free sulfur dioxide</th>\n",
       "      <th>total sulfur dioxide</th>\n",
       "      <th>density</th>\n",
       "      <th>pH</th>\n",
       "      <th>sulphates</th>\n",
       "      <th>alcohol</th>\n",
       "      <th>quality</th>\n",
       "    </tr>\n",
       "  </thead>\n",
       "  <tbody>\n",
       "    <tr>\n",
       "      <th>0</th>\n",
       "      <td>7.4</td>\n",
       "      <td>0.70</td>\n",
       "      <td>0.00</td>\n",
       "      <td>1.9</td>\n",
       "      <td>0.076</td>\n",
       "      <td>11.0</td>\n",
       "      <td>34</td>\n",
       "      <td>0.99780</td>\n",
       "      <td>3.51</td>\n",
       "      <td>0.56</td>\n",
       "      <td>9.4</td>\n",
       "      <td>5</td>\n",
       "    </tr>\n",
       "    <tr>\n",
       "      <th>1</th>\n",
       "      <td>7.8</td>\n",
       "      <td>0.88</td>\n",
       "      <td>0.00</td>\n",
       "      <td>2.6</td>\n",
       "      <td>0.098</td>\n",
       "      <td>25.0</td>\n",
       "      <td>67</td>\n",
       "      <td>0.99680</td>\n",
       "      <td>3.20</td>\n",
       "      <td>0.68</td>\n",
       "      <td>9.8</td>\n",
       "      <td>5</td>\n",
       "    </tr>\n",
       "    <tr>\n",
       "      <th>2</th>\n",
       "      <td>7.8</td>\n",
       "      <td>0.76</td>\n",
       "      <td>0.04</td>\n",
       "      <td>2.3</td>\n",
       "      <td>0.092</td>\n",
       "      <td>15.0</td>\n",
       "      <td>54</td>\n",
       "      <td>0.99700</td>\n",
       "      <td>3.26</td>\n",
       "      <td>0.65</td>\n",
       "      <td>9.8</td>\n",
       "      <td>5</td>\n",
       "    </tr>\n",
       "    <tr>\n",
       "      <th>3</th>\n",
       "      <td>11.2</td>\n",
       "      <td>0.28</td>\n",
       "      <td>0.56</td>\n",
       "      <td>1.9</td>\n",
       "      <td>0.075</td>\n",
       "      <td>17.0</td>\n",
       "      <td>60</td>\n",
       "      <td>0.99800</td>\n",
       "      <td>3.16</td>\n",
       "      <td>0.58</td>\n",
       "      <td>9.8</td>\n",
       "      <td>6</td>\n",
       "    </tr>\n",
       "    <tr>\n",
       "      <th>4</th>\n",
       "      <td>7.4</td>\n",
       "      <td>0.70</td>\n",
       "      <td>0.00</td>\n",
       "      <td>1.9</td>\n",
       "      <td>0.076</td>\n",
       "      <td>11.0</td>\n",
       "      <td>34</td>\n",
       "      <td>0.99780</td>\n",
       "      <td>3.51</td>\n",
       "      <td>0.56</td>\n",
       "      <td>9.4</td>\n",
       "      <td>5</td>\n",
       "    </tr>\n",
       "    <tr>\n",
       "      <th>...</th>\n",
       "      <td>...</td>\n",
       "      <td>...</td>\n",
       "      <td>...</td>\n",
       "      <td>...</td>\n",
       "      <td>...</td>\n",
       "      <td>...</td>\n",
       "      <td>...</td>\n",
       "      <td>...</td>\n",
       "      <td>...</td>\n",
       "      <td>...</td>\n",
       "      <td>...</td>\n",
       "      <td>...</td>\n",
       "    </tr>\n",
       "    <tr>\n",
       "      <th>1195</th>\n",
       "      <td>6.2</td>\n",
       "      <td>0.43</td>\n",
       "      <td>0.22</td>\n",
       "      <td>1.8</td>\n",
       "      <td>0.078</td>\n",
       "      <td>21.0</td>\n",
       "      <td>56</td>\n",
       "      <td>0.99633</td>\n",
       "      <td>3.52</td>\n",
       "      <td>0.60</td>\n",
       "      <td>9.5</td>\n",
       "      <td>6</td>\n",
       "    </tr>\n",
       "    <tr>\n",
       "      <th>1196</th>\n",
       "      <td>7.9</td>\n",
       "      <td>0.58</td>\n",
       "      <td>0.23</td>\n",
       "      <td>2.3</td>\n",
       "      <td>0.076</td>\n",
       "      <td>23.0</td>\n",
       "      <td>94</td>\n",
       "      <td>0.99686</td>\n",
       "      <td>3.21</td>\n",
       "      <td>0.58</td>\n",
       "      <td>9.5</td>\n",
       "      <td>6</td>\n",
       "    </tr>\n",
       "    <tr>\n",
       "      <th>1197</th>\n",
       "      <td>7.7</td>\n",
       "      <td>0.57</td>\n",
       "      <td>0.21</td>\n",
       "      <td>1.5</td>\n",
       "      <td>0.069</td>\n",
       "      <td>4.0</td>\n",
       "      <td>9</td>\n",
       "      <td>0.99458</td>\n",
       "      <td>3.16</td>\n",
       "      <td>0.54</td>\n",
       "      <td>9.8</td>\n",
       "      <td>6</td>\n",
       "    </tr>\n",
       "    <tr>\n",
       "      <th>1198</th>\n",
       "      <td>7.7</td>\n",
       "      <td>0.26</td>\n",
       "      <td>0.26</td>\n",
       "      <td>2.0</td>\n",
       "      <td>0.052</td>\n",
       "      <td>19.0</td>\n",
       "      <td>77</td>\n",
       "      <td>0.99510</td>\n",
       "      <td>3.15</td>\n",
       "      <td>0.79</td>\n",
       "      <td>10.9</td>\n",
       "      <td>6</td>\n",
       "    </tr>\n",
       "    <tr>\n",
       "      <th>1199</th>\n",
       "      <td>5.0</td>\n",
       "      <td>0.74</td>\n",
       "      <td>0.00</td>\n",
       "      <td>1.2</td>\n",
       "      <td>0.041</td>\n",
       "      <td>16.0</td>\n",
       "      <td>46</td>\n",
       "      <td>0.99258</td>\n",
       "      <td>4.01</td>\n",
       "      <td>0.59</td>\n",
       "      <td>12.5</td>\n",
       "      <td>6</td>\n",
       "    </tr>\n",
       "  </tbody>\n",
       "</table>\n",
       "<p>1200 rows × 12 columns</p>\n",
       "</div>"
      ],
      "text/plain": [
       "      fixed acidity  volatile acidity  citric acid  residual sugar  chlorides  \\\n",
       "0               7.4              0.70         0.00             1.9      0.076   \n",
       "1               7.8              0.88         0.00             2.6      0.098   \n",
       "2               7.8              0.76         0.04             2.3      0.092   \n",
       "3              11.2              0.28         0.56             1.9      0.075   \n",
       "4               7.4              0.70         0.00             1.9      0.076   \n",
       "...             ...               ...          ...             ...        ...   \n",
       "1195            6.2              0.43         0.22             1.8      0.078   \n",
       "1196            7.9              0.58         0.23             2.3      0.076   \n",
       "1197            7.7              0.57         0.21             1.5      0.069   \n",
       "1198            7.7              0.26         0.26             2.0      0.052   \n",
       "1199            5.0              0.74         0.00             1.2      0.041   \n",
       "\n",
       "      free sulfur dioxide  total sulfur dioxide  density    pH  sulphates  \\\n",
       "0                    11.0                    34  0.99780  3.51       0.56   \n",
       "1                    25.0                    67  0.99680  3.20       0.68   \n",
       "2                    15.0                    54  0.99700  3.26       0.65   \n",
       "3                    17.0                    60  0.99800  3.16       0.58   \n",
       "4                    11.0                    34  0.99780  3.51       0.56   \n",
       "...                   ...                   ...      ...   ...        ...   \n",
       "1195                 21.0                    56  0.99633  3.52       0.60   \n",
       "1196                 23.0                    94  0.99686  3.21       0.58   \n",
       "1197                  4.0                     9  0.99458  3.16       0.54   \n",
       "1198                 19.0                    77  0.99510  3.15       0.79   \n",
       "1199                 16.0                    46  0.99258  4.01       0.59   \n",
       "\n",
       "      alcohol  quality  \n",
       "0         9.4        5  \n",
       "1         9.8        5  \n",
       "2         9.8        5  \n",
       "3         9.8        6  \n",
       "4         9.4        5  \n",
       "...       ...      ...  \n",
       "1195      9.5        6  \n",
       "1196      9.5        6  \n",
       "1197      9.8        6  \n",
       "1198     10.9        6  \n",
       "1199     12.5        6  \n",
       "\n",
       "[1200 rows x 12 columns]"
      ]
     },
     "execution_count": 2,
     "metadata": {},
     "output_type": "execute_result"
    }
   ],
   "source": [
    "df = pd.read_csv('wine.csv', sep=';')\n",
    "df"
   ]
  },
  {
   "cell_type": "markdown",
   "metadata": {},
   "source": [
    "## Create A and b"
   ]
  },
  {
   "cell_type": "code",
   "execution_count": 3,
   "id": "f742b410",
   "metadata": {},
   "outputs": [],
   "source": [
    "def make_A_b(deg, data, y):\n",
    "    # data: dataframe, y: Series, deg: int\n",
    "    data.reset_index(inplace=True, drop=True)\n",
    "    y.reset_index(inplace=True, drop=True)\n",
    "    A = pd.Series(np.ones(data.shape[0]))\n",
    "    for i in range(data.shape[1]):\n",
    "        for d in range(1, deg + 1):\n",
    "            A = pd.concat((A, data.iloc[:, i]**d), axis=1)\n",
    "    return A, y"
   ]
  },
  {
   "cell_type": "code",
   "execution_count": 4,
   "id": "651f3d46",
   "metadata": {},
   "outputs": [],
   "source": [
    "def solve(A, b):\n",
    "    return np.linalg.pinv(A) @ b"
   ]
  },
  {
   "cell_type": "markdown",
   "id": "28cff8f6",
   "metadata": {},
   "source": [
    "## Part 1 (all attributes)"
   ]
  },
  {
   "cell_type": "markdown",
   "id": "f060628f",
   "metadata": {},
   "source": [
    "**Solve**"
   ]
  },
  {
   "cell_type": "code",
   "execution_count": 5,
   "id": "0d6a4482",
   "metadata": {},
   "outputs": [],
   "source": [
    "x = df.iloc[:,:-1]\n",
    "y = df.iloc[:, -1]\n",
    "A, b = make_A_b(1,x, y)\n",
    "v = solve(A, b)"
   ]
  },
  {
   "cell_type": "markdown",
   "id": "a13d77a6",
   "metadata": {},
   "source": [
    "**Result**"
   ]
  },
  {
   "cell_type": "code",
   "execution_count": 6,
   "id": "eed2b2dd",
   "metadata": {
    "scrolled": true
   },
   "outputs": [
    {
     "data": {
      "text/plain": [
       "array([ 4.32363757e+01,  4.79658267e-02, -1.06797380e+00, -2.68453927e-01,\n",
       "        3.50267451e-02, -1.59557504e+00,  3.47539059e-03, -3.79299466e-03,\n",
       "       -3.98102920e+01, -2.40172280e-01,  7.74368364e-01,  2.69212248e-01])"
      ]
     },
     "execution_count": 6,
     "metadata": {},
     "output_type": "execute_result"
    }
   ],
   "source": [
    "v"
   ]
  },
  {
   "cell_type": "markdown",
   "id": "087a1eb1",
   "metadata": {},
   "source": [
    "**Norm**"
   ]
  },
  {
   "cell_type": "code",
   "execution_count": 7,
   "id": "5a3c2262",
   "metadata": {},
   "outputs": [
    {
     "data": {
      "text/plain": [
       "22.095010916094765"
      ]
     },
     "execution_count": 7,
     "metadata": {},
     "output_type": "execute_result"
    }
   ],
   "source": [
    "np.linalg.norm(A @ v - b)"
   ]
  },
  {
   "cell_type": "markdown",
   "id": "430166c4",
   "metadata": {},
   "source": [
    "## Part 2 (1 attributes)"
   ]
  },
  {
   "cell_type": "code",
   "execution_count": 8,
   "id": "d561fe55",
   "metadata": {},
   "outputs": [],
   "source": [
    "def cross_validation(k, df):\n",
    "    best_one = None\n",
    "    df = shuffle(df)\n",
    "    df.reset_index(inplace=True, drop=True)\n",
    "    pieces = int(df.shape[0]/k)\n",
    "    for i in range(df.shape[1]-1):\n",
    "        last = -pieces\n",
    "        for _ in range(k):\n",
    "            last += pieces\n",
    "            x = df.drop(labels=range(last,last + pieces)).filter(items=[df.columns[i]], axis=1)\n",
    "            y = pd.concat([df.iloc[0:last, -1],df.iloc[last + pieces:, -1]])\n",
    "            A, b = make_A_b(1,x, y)\n",
    "            v = solve(A, b)\n",
    "            est_diff = np.linalg.norm(A @ v - b)\n",
    "            if best_one is not None:\n",
    "                if est_diff < best_one[0]:\n",
    "                    best_one = est_diff, v, i\n",
    "            else:\n",
    "                best_one = est_diff, v, i\n",
    "    return best_one[1], best_one[2]"
   ]
  },
  {
   "cell_type": "markdown",
   "id": "2b1f3b18",
   "metadata": {},
   "source": [
    "**Solve**"
   ]
  },
  {
   "cell_type": "code",
   "execution_count": 9,
   "id": "2a172b4a",
   "metadata": {},
   "outputs": [],
   "source": [
    "k = 5\n",
    "best = cross_validation(k, df)"
   ]
  },
  {
   "cell_type": "markdown",
   "id": "9492c6b1",
   "metadata": {},
   "source": [
    "**Result**"
   ]
  },
  {
   "cell_type": "code",
   "execution_count": 10,
   "id": "34af3d3d",
   "metadata": {
    "scrolled": false
   },
   "outputs": [
    {
     "data": {
      "text/plain": [
       "array([1.77579888, 0.37458485])"
      ]
     },
     "execution_count": 10,
     "metadata": {},
     "output_type": "execute_result"
    }
   ],
   "source": [
    "best[0]"
   ]
  },
  {
   "cell_type": "markdown",
   "id": "e10071ac",
   "metadata": {},
   "source": [
    "**Choosen attribute**"
   ]
  },
  {
   "cell_type": "code",
   "execution_count": 11,
   "id": "24d4a738",
   "metadata": {},
   "outputs": [
    {
     "data": {
      "text/plain": [
       "'alcohol'"
      ]
     },
     "execution_count": 11,
     "metadata": {},
     "output_type": "execute_result"
    }
   ],
   "source": [
    "df.columns[best[1]]"
   ]
  },
  {
   "cell_type": "markdown",
   "id": "e430654b",
   "metadata": {},
   "source": [
    "**Norm**"
   ]
  },
  {
   "cell_type": "code",
   "execution_count": 12,
   "id": "f27a44d1",
   "metadata": {},
   "outputs": [
    {
     "data": {
      "text/plain": [
       "24.184396815304787"
      ]
     },
     "execution_count": 12,
     "metadata": {},
     "output_type": "execute_result"
    }
   ],
   "source": [
    "A, b = make_A_b(1, df.filter(items=[df.columns[best[1]]]), df.iloc[:,-1])\n",
    "np.linalg.norm(A @ best[0] - b)"
   ]
  },
  {
   "cell_type": "markdown",
   "id": "b9ae0d1c",
   "metadata": {},
   "source": [
    "## Part 3 (1 - 3 attributes)"
   ]
  },
  {
   "cell_type": "code",
   "execution_count": 13,
   "id": "8bcb9d86",
   "metadata": {},
   "outputs": [],
   "source": [
    "def find_model(df, deg):\n",
    "    best_one = None\n",
    "    df = shuffle(df)\n",
    "    df.reset_index(inplace=True, drop=True)\n",
    "    for i in range(df.shape[1] - 3):\n",
    "        for j in range(i + 1,df.shape[1] - 2):\n",
    "            for k in range(j + 1, df.shape[1] - 1):\n",
    "                x = pd.concat((df.iloc[:,i], df.iloc[:,j], df.iloc[:,k]),axis=1)\n",
    "                y = df.iloc[:,-1]\n",
    "                A, b = make_A_b(deg,x, y)\n",
    "                v = solve(A, b)\n",
    "                est_diff = np.linalg.norm(A @ v - b)\n",
    "                if best_one is not None:\n",
    "                    if est_diff < best_one[0]:\n",
    "                        best_one = est_diff, v, (i, j, k)\n",
    "                else:\n",
    "                    best_one = est_diff, v, (i, j, k)\n",
    "    return best_one"
   ]
  },
  {
   "cell_type": "markdown",
   "id": "f4cfeb78",
   "metadata": {},
   "source": [
    "**Solve**"
   ]
  },
  {
   "cell_type": "code",
   "execution_count": 14,
   "id": "9a5a192f",
   "metadata": {},
   "outputs": [],
   "source": [
    "deg = 1\n",
    "best = find_model(df, deg)"
   ]
  },
  {
   "cell_type": "markdown",
   "id": "aa7d3f6d",
   "metadata": {},
   "source": [
    "**Result**"
   ]
  },
  {
   "cell_type": "code",
   "execution_count": 15,
   "id": "b2aebd8b",
   "metadata": {},
   "outputs": [
    {
     "data": {
      "text/plain": [
       "array([ 3.19033261e+00, -1.26488671e+00, -2.80309069e-03,  3.14204597e-01])"
      ]
     },
     "execution_count": 15,
     "metadata": {},
     "output_type": "execute_result"
    }
   ],
   "source": [
    "best[1]"
   ]
  },
  {
   "cell_type": "markdown",
   "id": "e5c21427",
   "metadata": {},
   "source": [
    "**Choosen attributes**"
   ]
  },
  {
   "cell_type": "code",
   "execution_count": 16,
   "id": "736649f1",
   "metadata": {
    "scrolled": true
   },
   "outputs": [
    {
     "data": {
      "text/plain": [
       "['volatile acidity', 'total sulfur dioxide', 'alcohol']"
      ]
     },
     "execution_count": 16,
     "metadata": {},
     "output_type": "execute_result"
    }
   ],
   "source": [
    "[df.columns[i] for i in best[2]]    "
   ]
  },
  {
   "cell_type": "markdown",
   "id": "68e6e0d8",
   "metadata": {},
   "source": [
    "**Norm**"
   ]
  },
  {
   "cell_type": "code",
   "execution_count": 17,
   "id": "0ebb805f",
   "metadata": {
    "scrolled": false
   },
   "outputs": [
    {
     "data": {
      "text/plain": [
       "22.640229234488324"
      ]
     },
     "execution_count": 17,
     "metadata": {},
     "output_type": "execute_result"
    }
   ],
   "source": [
    "best[0]"
   ]
  }
 ],
 "metadata": {
  "interpreter": {
   "hash": "916dbcbb3f70747c44a77c7bcd40155683ae19c65e1c03b4aa3499c5328201f1"
  },
  "kernelspec": {
   "display_name": "Python 3.9.5 64-bit",
   "name": "python3"
  },
  "language_info": {
   "codemirror_mode": {
    "name": "ipython",
    "version": 3
   },
   "file_extension": ".py",
   "mimetype": "text/x-python",
   "name": "python",
   "nbconvert_exporter": "python",
   "pygments_lexer": "ipython3",
   "version": "3.9.5"
  }
 },
 "nbformat": 4,
 "nbformat_minor": 5
}
